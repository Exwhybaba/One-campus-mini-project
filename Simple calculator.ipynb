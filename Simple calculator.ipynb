{
 "cells": [
  {
   "cell_type": "markdown",
   "id": "5ed0c21a",
   "metadata": {},
   "source": [
    "### building a simple calculator with python"
   ]
  },
  {
   "cell_type": "code",
   "execution_count": 23,
   "id": "042a45d4",
   "metadata": {},
   "outputs": [],
   "source": [
    "func = ['+', '-', '*', '/', '%']\n",
    "def calc(firt_input, func, last_input):\n",
    "    first_input = int(input('Enter your first number '))\n",
    "    last_input = int(input('Enter your second number '))\n",
    "    func = input('your funtion should include the following: +, -, *, /, %')\n",
    "    if func == '+':\n",
    "        res = first_input + last_input\n",
    "    elif func == '-':\n",
    "        res = first_input - last_input\n",
    "    elif func == '*':\n",
    "        res = first_input * last_input\n",
    "    elif func == '/':\n",
    "        res = first_input / last_input\n",
    "    elif func == '%':\n",
    "        res = first_input % last_input\n",
    "    else:\n",
    "        res = 'unidentified value'\n",
    "    return res\n"
   ]
  },
  {
   "cell_type": "code",
   "execution_count": 24,
   "id": "1a63c7e1",
   "metadata": {},
   "outputs": [
    {
     "name": "stdout",
     "output_type": "stream",
     "text": [
      "Enter your first number 98\n",
      "Enter your second number 30\n",
      "your funtion should include the following: +, -, *, /, %/\n"
     ]
    },
    {
     "data": {
      "text/plain": [
       "3.2666666666666666"
      ]
     },
     "execution_count": 24,
     "metadata": {},
     "output_type": "execute_result"
    }
   ],
   "source": [
    "calc(first_input,func,last_input)"
   ]
  },
  {
   "cell_type": "code",
   "execution_count": null,
   "id": "d53cef56",
   "metadata": {},
   "outputs": [],
   "source": []
  }
 ],
 "metadata": {
  "kernelspec": {
   "display_name": "Python 3 (ipykernel)",
   "language": "python",
   "name": "python3"
  },
  "language_info": {
   "codemirror_mode": {
    "name": "ipython",
    "version": 3
   },
   "file_extension": ".py",
   "mimetype": "text/x-python",
   "name": "python",
   "nbconvert_exporter": "python",
   "pygments_lexer": "ipython3",
   "version": "3.9.7"
  }
 },
 "nbformat": 4,
 "nbformat_minor": 5
}
