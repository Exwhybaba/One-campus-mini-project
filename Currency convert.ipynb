{
 "cells": [
  {
   "cell_type": "code",
   "execution_count": 1,
   "id": "4389b695",
   "metadata": {},
   "outputs": [],
   "source": [
    "allCurrency = ['Dollar', 'Dutch Mark', 'Pound', 'Peso', 'Rand',  'Kwacha',  'Cedis']\n",
    "base_currency = {'Dollar': 1, 'Dutch Mark' : 1.90846, 'Pound': 0.84, 'Peso' : 55.84, 'Rand': 16.78,  'Kwacha':16.30,  'Cedis': 8.04}"
   ]
  },
  {
   "cell_type": "code",
   "execution_count": 2,
   "id": "696b3d78",
   "metadata": {},
   "outputs": [],
   "source": [
    "def currencyConverter(baseCurr,tgtCurr, amount2Conv):\n",
    "    if baseCurr in base_currency.keys() and tgtCurr in base_currency.keys():\n",
    "        dollaEqui = amount2Conv/base_currency[baseCurr]\n",
    "        tgtEqui = dollaEqui*base_currency[tgtCurr]\n",
    "        res = print(f'The equivalent value of {baseCurr} of value {amount2Conv}, in {tgtCurr} is {tgtEqui}')\n",
    "    else:\n",
    "        res = print('unidentified value')\n",
    "    return res\n",
    "\n",
    "\n",
    "    \n",
    "    "
   ]
  },
  {
   "cell_type": "code",
   "execution_count": 3,
   "id": "6d566d75",
   "metadata": {},
   "outputs": [
    {
     "name": "stdout",
     "output_type": "stream",
     "text": [
      "please input your base currency pound\n",
      "please input your target Currency kwacha\n",
      "please input the amount to convert 450\n",
      "The equivalent value of Pound of value 450.0, in Kwacha is 8732.142857142859\n"
     ]
    }
   ],
   "source": [
    "baseCurrency = input('please input your base currency ').title()\n",
    "targetCurrency = input('please input your target Currency ').title()\n",
    "UserAmount = float(input('please input the amount to convert '))\n",
    "currencyConverter(baseCurrency, targetCurrency, UserAmount)"
   ]
  },
  {
   "cell_type": "code",
   "execution_count": 4,
   "id": "c3414bc4",
   "metadata": {},
   "outputs": [
    {
     "name": "stdout",
     "output_type": "stream",
     "text": [
      "The equivalent value of Peso of value 2000, in Pound is 30.085959885386817\n"
     ]
    }
   ],
   "source": [
    "currencyConverter('Peso', 'Pound', 2000)"
   ]
  }
 ],
 "metadata": {
  "kernelspec": {
   "display_name": "Python 3 (ipykernel)",
   "language": "python",
   "name": "python3"
  },
  "language_info": {
   "codemirror_mode": {
    "name": "ipython",
    "version": 3
   },
   "file_extension": ".py",
   "mimetype": "text/x-python",
   "name": "python",
   "nbconvert_exporter": "python",
   "pygments_lexer": "ipython3",
   "version": "3.9.7"
  }
 },
 "nbformat": 4,
 "nbformat_minor": 5
}
